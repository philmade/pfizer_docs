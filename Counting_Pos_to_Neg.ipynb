{
 "cells": [
  {
   "cell_type": "code",
   "execution_count": 14,
   "metadata": {},
   "outputs": [],
   "source": [
    "import pandas as pd\n",
    "from datetime import datetime\n",
    "from functools import partial\n",
    "f = partial(pd.to_datetime, dayfirst=True)\n",
    "\n",
    "pd.set_option('display.max_columns', None)  # or 1000\n",
    "pd.set_option('display.max_rows', None)  # or 1000\n",
    "pd.set_option('display.max_colwidth', None)  # or 199\n",
    "\n",
    "# READ THE DATA FROM CSV TO PANDAS\n",
    "# Download the CSV, add it to project folder. Change filepath below, or if you add file it will just work.\n",
    "df = pd.read_csv(\n",
    "    filepath_or_buffer=\"c4591001-A-D-adva.csv\",\n",
    "    low_memory=False,\n",
    ")\n",
    "\n",
    "# CONVERT THE ADT DATE TO DATETIME SO WE CAN FILTER IT LATER\n",
    "df['ADT'] = pd.to_datetime(df['ADT'])"
   ]
  },
  {
   "cell_type": "code",
   "execution_count": 34,
   "metadata": {},
   "outputs": [
    {
     "name": "stdout",
     "output_type": "stream",
     "text": [
      "Placebo: USUBJID    146.0\n",
      "ACTARM     146.0\n",
      "PARAM      146.0\n",
      "VISIT      146.0\n",
      "AVALC      146.0\n",
      "ADT        146.0\n",
      "dtype: float64 Vaccinated: USUBJID    62.0\n",
      "ACTARM     62.0\n",
      "PARAM      62.0\n",
      "VISIT      62.0\n",
      "AVALC      62.0\n",
      "ADT        62.0\n",
      "dtype: float64\n"
     ]
    }
   ],
   "source": [
    "\n",
    "# QUERY DATA \n",
    "# Looking for ALL Placebo patients NEGATIVE at VISIT 1\n",
    "# We add to that ALL Placebo patients POSITIVE at VISIT 3\n",
    "placebo_neg_pos = df[['USUBJID', 'ACTARM','PARAM', 'VISIT', 'AVALC','ADT']][\n",
    "    ((df.ACTARM.str.contains('Placebo')) & (df['PARAM'] == 'N-binding antibody - N-binding Antibody Assay') & (df['ADT'] <= datetime(2020, 9, 15))) &\n",
    "    ((df['VISIT'] == 'V1_DAY1_VAX1_L') & (df['AVALC'] == 'NEG')) | \n",
    "    ((df['VISIT'] == 'V3_MONTH1_POSTVAX2_L') & (df['AVALC'] == 'POS'))\n",
    "    ].drop_duplicates()\n",
    "\n",
    "# This step counts the results, returning those which count to two.\n",
    "# Patients that appear twice had both v1_ NEGATIVE and v3_ Positive\n",
    "placebo_neg_pos_results = placebo_neg_pos[placebo_neg_pos.groupby('USUBJID').USUBJID.transform('count') == 2]\n",
    "\n",
    "# Repeat, this time for vaccinated\n",
    "vaccinated_neg_pos = df[['USUBJID', 'ACTARM','PARAM', 'VISIT', 'AVALC', 'ADT']][\n",
    "    ((df.ACTARM.str.contains('BNT162b2')) & (df['PARAM'] == 'N-binding antibody - N-binding Antibody Assay') & (df['ADT'] <= datetime(2020, 9, 15))) &\n",
    "    ((df['VISIT'] == 'V1_DAY1_VAX1_L') & (df['AVALC'] == 'NEG')) | \n",
    "    ((df['VISIT'] == 'V3_MONTH1_POSTVAX2_L') & (df['AVALC'] == 'POS'))\n",
    "    ].drop_duplicates()\n",
    "\n",
    "vaccinated_neg_pos_results = vaccinated_neg_pos[vaccinated_neg_pos.groupby('USUBJID').USUBJID.transform('count') == 2]\n",
    "\n",
    "# PRINT TO CSV\n",
    "placebo_neg_pos_results.to_csv('placebo_neg_pos.csv')\n",
    "vaccinated_neg_pos_results.to_csv('vaccinated_neg_pos.csv')\n",
    "\n",
    "# PRINT THE RESULTS\n",
    "print(f\"Placebo: {placebo_neg_pos_results.count()/2} Vaccinated: {vaccinated_neg_pos_results.count()/2}\")"
   ]
  }
 ],
 "metadata": {
  "interpreter": {
   "hash": "460effb28c921198826e3c4698f5713094237bf13703608f19f875685f9b7319"
  },
  "kernelspec": {
   "display_name": "Python 3.8.5 ('django_signally-JCl81_Vu-py3.8')",
   "language": "python",
   "name": "python3"
  },
  "language_info": {
   "codemirror_mode": {
    "name": "ipython",
    "version": 3
   },
   "file_extension": ".py",
   "mimetype": "text/x-python",
   "name": "python",
   "nbconvert_exporter": "python",
   "pygments_lexer": "ipython3",
   "version": "3.8.5"
  },
  "orig_nbformat": 4,
  "vscode": {
   "interpreter": {
    "hash": "324c440ebdd5f73db6d07a4a66b7574af043fa4c0e6c11b80c0a5b2805aaa7f8"
   }
  }
 },
 "nbformat": 4,
 "nbformat_minor": 2
}
