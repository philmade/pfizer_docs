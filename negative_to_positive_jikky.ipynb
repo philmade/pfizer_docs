{
 "cells": [
  {
   "cell_type": "code",
   "execution_count": 4,
   "metadata": {},
   "outputs": [],
   "source": [
    "import pandas as pd\n",
    "from datetime import datetime\n",
    "from functools import partial\n",
    "\n",
    "# SETUP OPTIONAL PANDAS OPTIONS\n",
    "pd.set_option('display.max_columns', None)  # or 1000\n",
    "pd.set_option('display.max_rows', None)  # or 1000\n",
    "pd.set_option('display.max_colwidth', None)  # or 199\n",
    "\n"
   ]
  },
  {
   "cell_type": "code",
   "execution_count": 5,
   "metadata": {},
   "outputs": [],
   "source": [
    "# READ THE DATA FROM CSV TO PANDAS\n",
    "\n",
    "# You will need to download the .csv from Jikky, as was originally posted:\n",
    "# You will need to rename the file so its a .csv extension same as its written on line 9 below\n",
    "# https://files.catbox.moe/i544mb.zip\n",
    "\n",
    "# Download the CSV, rename it, add it to project folder.\n",
    "df = pd.read_csv(\n",
    "    filepath_or_buffer=\"c4591001-A-D-adva.csv\",\n",
    "    low_memory=False,\n",
    ")\n",
    "\n",
    "# CONVERT THE ADT DATE TO DATETIME SO WE CAN FILTER IT LATER\n",
    "df['ADT'] = pd.to_datetime(df['ADT'])"
   ]
  },
  {
   "cell_type": "code",
   "execution_count": 6,
   "metadata": {},
   "outputs": [
    {
     "name": "stdout",
     "output_type": "stream",
     "text": [
      "Placebo: USUBJID    160.0\n",
      "ACTARM     160.0\n",
      "PARAM      160.0\n",
      "VISIT      160.0\n",
      "AVALC      160.0\n",
      "ADT        160.0\n",
      "dtype: float64 Vaccinated: USUBJID    75.0\n",
      "ACTARM     75.0\n",
      "PARAM      75.0\n",
      "VISIT      75.0\n",
      "AVALC      75.0\n",
      "ADT        75.0\n",
      "dtype: float64\n"
     ]
    }
   ],
   "source": [
    "# QUERY DATA \n",
    "# Looking for ALL Placebo patients NEGATIVE at VISIT 1\n",
    "# We add to that ALL Placebo patients POSITIVE at VISIT 3\n",
    "placebo_neg_pos = df[['USUBJID', 'ACTARM','PARAM', 'VISIT', 'AVALC','ADT']][\n",
    "    ((df['ACTARM'] == 'Placebo') & (df['PARAM'] == 'N-binding antibody - N-binding Antibody Assay')) &\n",
    "    ((df['VISIT'] == 'V1_DAY1_VAX1_L') & (df['AVALC'] == 'NEG')) | \n",
    "    ((df['VISIT'] == 'V3_MONTH1_POSTVAX2_L') & (df['AVALC'] == 'POS') & (df['ADT'] <= datetime(2020, 11, 15)))\n",
    "    ]\n",
    "\n",
    "# This step counts the unique subject IDs, returning those which count to two.\n",
    "# Subjects that appear twice had both v1_ NEGATIVE and v3_ Positive\n",
    "placebo_neg_pos_results = placebo_neg_pos[placebo_neg_pos.groupby('USUBJID').USUBJID.transform('count') == 2]\n",
    "\n",
    "# Repeat, this time for vaccinated\n",
    "vaccinated_neg_pos = df[['USUBJID', 'ACTARM','PARAM', 'VISIT', 'AVALC', 'ADT']][\n",
    "    ((df['ACTARM']=='BNT162b2 Phase 2/3 (30 mcg)') & (df['PARAM'] == 'N-binding antibody - N-binding Antibody Assay')) &\n",
    "    ((df['VISIT'] == 'V1_DAY1_VAX1_L') & (df['AVALC'] == 'NEG')) | \n",
    "    ((df['VISIT'] == 'V3_MONTH1_POSTVAX2_L') & (df['AVALC'] == 'POS')& (df['ADT'] <= datetime(2020, 11, 15)))\n",
    "    ]\n",
    "\n",
    "vaccinated_neg_pos_results = vaccinated_neg_pos[vaccinated_neg_pos.groupby('USUBJID').USUBJID.transform('count') == 2]\n",
    "\n",
    "# PRINT TO CSV\n",
    "placebo_neg_pos_results.to_csv('placebo_neg_pos.csv')\n",
    "vaccinated_neg_pos_results.to_csv('vaccinated_neg_pos.csv')\n",
    "\n",
    "# PRINT THE RESULTS\n",
    "print(f\"Placebo: {placebo_neg_pos_results.count()/2} Vaccinated: {vaccinated_neg_pos_results.count()/2}\")"
   ]
  }
 ],
 "metadata": {
  "language_info": {
   "name": "python"
  },
  "orig_nbformat": 4
 },
 "nbformat": 4,
 "nbformat_minor": 2
}
