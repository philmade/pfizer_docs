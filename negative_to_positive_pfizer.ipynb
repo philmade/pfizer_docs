{
 "cells": [
  {
   "cell_type": "code",
   "execution_count": null,
   "metadata": {},
   "outputs": [],
   "source": [
    "import pandas as pd\n",
    "from datetime import datetime\n",
    "import zipfile, requests\n",
    "import csv\n",
    "\n",
    "# SETUP OPTIONAL PANDAS OPTIONS\n",
    "pd.set_option('display.max_columns', None)  # or 1000\n",
    "pd.set_option('display.max_rows', None)  # or 1000\n",
    "pd.set_option('display.max_colwidth', None)  # or 199\n",
    "\n"
   ]
  },
  {
   "cell_type": "code",
   "execution_count": null,
   "metadata": {},
   "outputs": [],
   "source": [
    "# STEP 1, GET THE ORIGINAL DATA AND EXTRACT .XPT FILE\n",
    "\n",
    "# Original file from icandecide. Check site for details.\n",
    "adva_file = \"https://www.icandecide.org/wp-content/uploads/2022/05/FDA-CBER-2021-5683-0123168%20to%20-0126026_125742_S1_M5_c4591001-A-D-adva.zip\"\n",
    "\n",
    "# Download the file, creating the zip file locally.\n",
    "with requests.get(adva_file) as r:\n",
    "    r.raise_for_status()\n",
    "    with open(\"c4591001-A-D-adva.zip\", 'wb') as f:\n",
    "        for chunk in r.iter_content(chunk_size=8192):\n",
    "            f.write(chunk)\n",
    "\n",
    "# Extract the zipfile, do not rename anything. We now have a .xpt file\n",
    "extracted = zipfile.ZipFile('c4591001-A-D-adva.zip')\n",
    "extracted.extractall(\"\")"
   ]
  },
  {
   "cell_type": "code",
   "execution_count": null,
   "metadata": {},
   "outputs": [],
   "source": [
    "# STEP 2, CONVERT THE .XPT FILE TO A PANDAS DATAFRAME\n",
    "\n",
    "# Read the file using pandas\n",
    "data = pd.read_sas('FDA-CBER-2021-5683-0123168 to -0126026_125742_S1_M5_c4591001-A-D-adva.xpt',chunksize=50000, encoding='utf-8')\n",
    "\n",
    "# For performance reasons, we create the pandas dataframe by concatenating data\n",
    "dfs = []\n",
    "for chunk in data:\n",
    "    dfs.append(chunk)\n",
    "\n",
    "# Final dataframe from the downloaded .xpt file\n",
    "df_final = pd.concat(dfs)"
   ]
  },
  {
   "cell_type": "code",
   "execution_count": 113,
   "metadata": {},
   "outputs": [],
   "source": [
    "# STEP 3, CONVERT SAS DATE TO PYTHON DATETIME SO WE CAN QUERY IT LATER\n",
    "df_final['ADT'] = pd.to_timedelta(df_final['ADT'], unit='D') + pd.Timestamp('1960-1-1')"
   ]
  },
  {
   "cell_type": "code",
   "execution_count": 114,
   "metadata": {},
   "outputs": [
    {
     "name": "stdout",
     "output_type": "stream",
     "text": [
      "Placebo: USUBJID    160.0\n",
      "ACTARM     160.0\n",
      "PARAM      160.0\n",
      "VISIT      160.0\n",
      "AVALC      160.0\n",
      "ADT        160.0\n",
      "dtype: float64 Vaccinated: USUBJID    75.0\n",
      "ACTARM     75.0\n",
      "PARAM      75.0\n",
      "VISIT      75.0\n",
      "AVALC      75.0\n",
      "ADT        75.0\n",
      "dtype: float64\n"
     ]
    }
   ],
   "source": [
    "# QUERY DATA \n",
    "# Looking for ALL Placebo patients NEGATIVE at VISIT 1\n",
    "# We add to that ALL Placebo patients POSITIVE at VISIT 3\n",
    "placebo_neg_pos = df_final[['USUBJID', 'ACTARM','PARAM', 'VISIT', 'AVALC','ADT']][\n",
    "    ((df_final.ACTARM == 'Placebo') & (df_final.PARAM == 'N-binding antibody - N-binding Antibody Assay')) &\n",
    "    ((df_final.VISIT == 'V1_DAY1_VAX1_L') & (df_final.AVALC == 'NEG')) | \n",
    "    ((df_final.VISIT == 'V3_MONTH1_POSTVAX2_L') & (df_final.AVALC == 'POS') & (df_final.ADT <= datetime(2020, 11, 15)))\n",
    "    ]\n",
    "\n",
    "# This step counts the unique subject IDs, returning those which count to two.\n",
    "# Subjects that appear twice had both v1_ NEGATIVE and v3_ Positive\n",
    "placebo_neg_pos_results = placebo_neg_pos[placebo_neg_pos.groupby('USUBJID').USUBJID.transform('count') == 2]\n",
    "\n",
    "# Repeat, this time for vaccinated\n",
    "vaccinated_neg_pos = df_final[['USUBJID', 'ACTARM','PARAM', 'VISIT', 'AVALC', 'ADT']][\n",
    "    ((df_final.ACTARM=='BNT162b2 Phase 2/3 (30 mcg)') & (df_final.PARAM == 'N-binding antibody - N-binding Antibody Assay')) &\n",
    "    ((df_final.VISIT == 'V1_DAY1_VAX1_L') & (df_final.AVALC == 'NEG')) | \n",
    "    ((df_final.VISIT == 'V3_MONTH1_POSTVAX2_L') & (df_final.AVALC == 'POS') & (df_final.ADT <= datetime(2020, 11, 15)))\n",
    "    ]\n",
    "\n",
    "vaccinated_neg_pos_results = vaccinated_neg_pos[vaccinated_neg_pos.groupby('USUBJID').USUBJID.transform('count') == 2]\n",
    "\n",
    "# PRINT TO CSV\n",
    "placebo_neg_pos_results.to_csv('placebo_neg_pos.csv')\n",
    "vaccinated_neg_pos_results.to_csv('vaccinated_neg_pos.csv')\n",
    "\n",
    "# PRINT THE RESULTS\n",
    "print(f\"Placebo: {placebo_neg_pos_results.count()/2} Vaccinated: {vaccinated_neg_pos_results.count()/2}\")"
   ]
  },
  {
   "cell_type": "code",
   "execution_count": null,
   "metadata": {},
   "outputs": [],
   "source": [
    "df_final.to_csv(\"sas.csv\", encoding='utf-8', quoting=csv.QUOTE_MINIMAL)"
   ]
  },
  {
   "cell_type": "code",
   "execution_count": null,
   "metadata": {},
   "outputs": [],
   "source": []
  },
  {
   "cell_type": "code",
   "execution_count": null,
   "metadata": {},
   "outputs": [],
   "source": [
    "# READ THE DATA FROM CSV TO PANDAS\n",
    "# Download the CSV, add it to project folder. Change filepath below, or if you add file it will just work.\n",
    "df = pd.read_csv(\n",
    "    filepath_or_buffer=\"c4591001-A-D-adva.csv\",\n",
    "    low_memory=False,\n",
    ")\n",
    "\n",
    "# CONVERT THE ADT DATE TO DATETIME SO WE CAN FILTER IT LATER\n",
    "df['ADT'] = pd.to_datetime(df['ADT'])"
   ]
  },
  {
   "cell_type": "code",
   "execution_count": null,
   "metadata": {},
   "outputs": [],
   "source": [
    "# QUERY DATA \n",
    "# Looking for ALL Placebo patients NEGATIVE at VISIT 1\n",
    "# We add to that ALL Placebo patients POSITIVE at VISIT 3\n",
    "placebo_neg_pos = df[['USUBJID', 'ACTARM','PARAM', 'VISIT', 'AVALC','ADT']][\n",
    "    ((df['ACTARM'] == 'Placebo') & (df['PARAM'] == 'N-binding antibody - N-binding Antibody Assay')) &\n",
    "    ((df['VISIT'] == 'V1_DAY1_VAX1_L') & (df['AVALC'] == 'NEG')) | \n",
    "    ((df['VISIT'] == 'V3_MONTH1_POSTVAX2_L') & (df['AVALC'] == 'POS') & (df['ADT'] <= datetime(2020, 11, 15)))\n",
    "    ]\n",
    "\n",
    "# This step counts the unique subject IDs, returning those which count to two.\n",
    "# Subjects that appear twice had both v1_ NEGATIVE and v3_ Positive\n",
    "placebo_neg_pos_results = placebo_neg_pos[placebo_neg_pos.groupby('USUBJID').USUBJID.transform('count') == 2]\n",
    "\n",
    "# Repeat, this time for vaccinated\n",
    "vaccinated_neg_pos = df[['USUBJID', 'ACTARM','PARAM', 'VISIT', 'AVALC', 'ADT']][\n",
    "    ((df['ACTARM']=='BNT162b2 Phase 2/3 (30 mcg)') & (df['PARAM'] == 'N-binding antibody - N-binding Antibody Assay')) &\n",
    "    ((df['VISIT'] == 'V1_DAY1_VAX1_L') & (df['AVALC'] == 'NEG')) | \n",
    "    ((df['VISIT'] == 'V3_MONTH1_POSTVAX2_L') & (df['AVALC'] == 'POS')& (df['ADT'] <= datetime(2020, 11, 15)))\n",
    "    ]\n",
    "\n",
    "vaccinated_neg_pos_results = vaccinated_neg_pos[vaccinated_neg_pos.groupby('USUBJID').USUBJID.transform('count') == 2]\n",
    "\n",
    "# PRINT TO CSV\n",
    "placebo_neg_pos_results.to_csv('placebo_neg_pos.csv')\n",
    "vaccinated_neg_pos_results.to_csv('vaccinated_neg_pos.csv')\n",
    "\n",
    "# PRINT THE RESULTS\n",
    "print(f\"Placebo: {placebo_neg_pos_results.count()/2} Vaccinated: {vaccinated_neg_pos_results.count()/2}\")"
   ]
  }
 ],
 "metadata": {
  "language_info": {
   "name": "python"
  },
  "orig_nbformat": 4
 },
 "nbformat": 4,
 "nbformat_minor": 2
}
